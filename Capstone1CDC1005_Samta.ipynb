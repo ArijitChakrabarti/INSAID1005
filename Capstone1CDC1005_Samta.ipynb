{
  "nbformat": 4,
  "nbformat_minor": 0,
  "metadata": {
    "colab": {
      "name": "Capstone1CDC1005-Samta.ipynb",
      "provenance": [],
      "collapsed_sections": [],
      "authorship_tag": "ABX9TyPnkwrDcBgy3giD5QhnXWGt",
      "include_colab_link": true
    },
    "kernelspec": {
      "name": "python3",
      "display_name": "Python 3"
    },
    "language_info": {
      "name": "python"
    }
  },
  "cells": [
    {
      "cell_type": "markdown",
      "metadata": {
        "id": "view-in-github",
        "colab_type": "text"
      },
      "source": [
        "<a href=\"https://colab.research.google.com/github/samsharm/INSAID1005/blob/main/Capstone1CDC1005_Samta.ipynb\" target=\"_parent\"><img src=\"https://colab.research.google.com/assets/colab-badge.svg\" alt=\"Open In Colab\"/></a>"
      ]
    },
    {
      "cell_type": "code",
      "metadata": {
        "colab": {
          "base_uri": "https://localhost:8080/"
        },
        "id": "cO9PJm4dVfW4",
        "outputId": "21ab5abd-bcb0-4174-b5f5-7d4ca51646fc"
      },
      "source": [
        "pip install MySQL-Connector"
      ],
      "execution_count": 1,
      "outputs": [
        {
          "output_type": "stream",
          "text": [
            "Collecting MySQL-Connector\n",
            "\u001b[?25l  Downloading https://files.pythonhosted.org/packages/28/04/e40098f3730e75bbe36a338926f566ea803550a34fb50535499f4fc4787a/mysql-connector-2.2.9.tar.gz (11.9MB)\n",
            "\u001b[K     |████████████████████████████████| 11.9MB 11.2MB/s \n",
            "\u001b[?25hBuilding wheels for collected packages: MySQL-Connector\n",
            "  Building wheel for MySQL-Connector (setup.py) ... \u001b[?25l\u001b[?25hdone\n",
            "  Created wheel for MySQL-Connector: filename=mysql_connector-2.2.9-cp37-cp37m-linux_x86_64.whl size=247949 sha256=7336f038f9099da162fb9c38a919364305bb01d88a9d37a210aff5040127251b\n",
            "  Stored in directory: /root/.cache/pip/wheels/8c/83/a1/f8b6d4bb1bd6208bbde1608bbfa7557504bed9eaf2ecf8c175\n",
            "Successfully built MySQL-Connector\n",
            "Installing collected packages: MySQL-Connector\n",
            "Successfully installed MySQL-Connector-2.2.9\n"
          ],
          "name": "stdout"
        }
      ]
    },
    {
      "cell_type": "code",
      "metadata": {
        "id": "DvXCEUIvUjRO"
      },
      "source": [
        "import mysql.connector\n",
        "import csv"
      ],
      "execution_count": 2,
      "outputs": []
    },
    {
      "cell_type": "code",
      "metadata": {
        "colab": {
          "base_uri": "https://localhost:8080/"
        },
        "id": "Net9-HQ5VeU5",
        "outputId": "21e115a8-a25b-4034-d982-1f964a429314"
      },
      "source": [
        "mydb = mysql.connector.connect(\n",
        "  host=\"cpanel.insaid.co\",\n",
        "  user=\"student\",\n",
        "  password=\"student\",\n",
        "  database='Capstone1'\n",
        ")\n",
        "\n",
        "print(mydb)"
      ],
      "execution_count": 3,
      "outputs": [
        {
          "output_type": "stream",
          "text": [
            "<mysql.connector.connection.MySQLConnection object at 0x7f6506833ed0>\n"
          ],
          "name": "stdout"
        }
      ]
    },
    {
      "cell_type": "code",
      "metadata": {
        "colab": {
          "base_uri": "https://localhost:8080/"
        },
        "id": "LnPHgPyJWjIX",
        "outputId": "2aa9a563-0c2f-417b-8419-4034f8c14e83"
      },
      "source": [
        "mycursor = mydb.cursor(buffered=True)\n",
        "\n",
        "mycursor.execute(\"SHOW DATABASES\")\n",
        "\n",
        "for x in mycursor:\n",
        "  print(x)"
      ],
      "execution_count": 4,
      "outputs": [
        {
          "output_type": "stream",
          "text": [
            "('information_schema',)\n",
            "('Capstone1',)\n",
            "('Capstone2',)\n",
            "('Capstone3',)\n"
          ],
          "name": "stdout"
        }
      ]
    },
    {
      "cell_type": "code",
      "metadata": {
        "id": "05uIa2Ypc89v"
      },
      "source": [
        "mycursor.execute(\"USE Capstone1\")\n"
      ],
      "execution_count": 5,
      "outputs": []
    },
    {
      "cell_type": "code",
      "metadata": {
        "id": "lmO1nXbodhGP"
      },
      "source": [
        "mycursor.execute(\"SHOW TABLES\") "
      ],
      "execution_count": 6,
      "outputs": []
    },
    {
      "cell_type": "code",
      "metadata": {
        "id": "BpgL61kGab6J"
      },
      "source": [
        "query = \"SELECT * FROM gender_age_train\"\n",
        "\n",
        "mycursor.execute(query)"
      ],
      "execution_count": 7,
      "outputs": []
    },
    {
      "cell_type": "code",
      "metadata": {
        "id": "wKo4HuVUazLF"
      },
      "source": [
        "result = mycursor.fetchall()\n",
        "\n",
        "with open('capstone1_gender_output.csv','w') as fileout:\n",
        "      writer = csv.writer(fileout)\n",
        "      writer.writerows(result) \n"
      ],
      "execution_count": 8,
      "outputs": []
    },
    {
      "cell_type": "code",
      "metadata": {
        "id": "z-lyxm-ef-SG"
      },
      "source": [
        "#for row in result:\n",
        "  #print(row)"
      ],
      "execution_count": 9,
      "outputs": []
    },
    {
      "cell_type": "code",
      "metadata": {
        "id": "w6WBaVoyfu3Q"
      },
      "source": [
        "query2 = \"SELECT * FROM phone_brand_device_model\"\n",
        "\n",
        "mycursor.execute(query2)"
      ],
      "execution_count": 10,
      "outputs": []
    },
    {
      "cell_type": "code",
      "metadata": {
        "id": "O_C8LVUOf2em"
      },
      "source": [
        "result2 = mycursor.fetchall()\n",
        "\n",
        "with open('capstone1_phone_output.csv','w') as fileout:\n",
        "      writer = csv.writer(fileout)\n",
        "      writer.writerows(result2) \n",
        "\n",
        "#for row in result2:\n",
        " # print(row)"
      ],
      "execution_count": 11,
      "outputs": []
    },
    {
      "cell_type": "code",
      "metadata": {
        "id": "ui5h41MndLy3"
      },
      "source": [
        ""
      ],
      "execution_count": 28,
      "outputs": []
    },
    {
      "cell_type": "code",
      "metadata": {
        "id": "oyexs8r9VoJh"
      },
      "source": [
        ""
      ],
      "execution_count": 30,
      "outputs": []
    },
    {
      "cell_type": "code",
      "metadata": {
        "id": "sydUSZdIdnQ-"
      },
      "source": [
        "\n"
      ],
      "execution_count": null,
      "outputs": []
    }
  ]
}